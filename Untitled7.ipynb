{
 "cells": [
  {
   "cell_type": "code",
   "execution_count": null,
   "metadata": {},
   "outputs": [],
   "source": [
    "number=input(\"Please enter a number\").lower()\n",
    "\n",
    "a=set(number)\n",
    "control=set(\"qwertyuıopğüasdfghjklşizxcvbnmöç\")\n",
    "\n",
    "if control.issuperset(a) or \"-\" in list(number) or \".\" in list(number) or \",\" in list(number) :\n",
    "    print(\"It is an invalid entry. Don't use non-numeric, float, or negative values!\")\n",
    "        \n",
    "\n",
    "    \n",
    "else:\n",
    "    \n",
    "    liste=[]\n",
    "    uzunluk=len(number)\n",
    "\n",
    "    liste=[int(j)**uzunluk for j in number]                                 \n",
    "\n",
    "    toplam=0\n",
    "    for i in range(0,uzunluk):\n",
    "        toplam += liste[i]\n",
    "    if toplam ==int(number):\n",
    "        print(\"{} is an Armstrong number\".format(number))\n",
    "    else:\n",
    "        print(\"{} is not an Armstrong number\".format(number))\n"
   ]
  }
 ],
 "metadata": {
  "kernelspec": {
   "display_name": "Python 3",
   "language": "python",
   "name": "python3"
  },
  "language_info": {
   "codemirror_mode": {
    "name": "ipython",
    "version": 3
   },
   "file_extension": ".py",
   "mimetype": "text/x-python",
   "name": "python",
   "nbconvert_exporter": "python",
   "pygments_lexer": "ipython3",
   "version": "3.7.6"
  }
 },
 "nbformat": 4,
 "nbformat_minor": 4
}
